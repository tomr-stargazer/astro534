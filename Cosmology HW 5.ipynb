{
 "metadata": {
  "name": "",
  "signature": "sha256:4e0279f0a36fae9a4b7af393f7a36ca1e3bae745d25ac60821afcfa7bb3b3994"
 },
 "nbformat": 3,
 "nbformat_minor": 0,
 "worksheets": [
  {
   "cells": [
    {
     "cell_type": "markdown",
     "metadata": {},
     "source": [
      "# Astronomy 534: HW 5\n",
      "## Tom Rice\n",
      "\n",
      "### 1.\n",
      "In this problem we will calculate the average density of a typical dark matter halo of virial mas $M_{vir} = 1 M_\\odot$. \n",
      "The extrapolated linear overdensity smoothed over the scale of $1 M_\\odot$ at $z=0$ is\n"
     ]
    },
    {
     "cell_type": "markdown",
     "metadata": {},
     "source": [
      "$$\\sigma(M=1, z=0) = 18.8$$\n",
      "\n",
      "A \"typical halo\" means that the halo collapsed at a redshift $z_c$ when $\\sigma(M=1,z_c)=\\delta_c=1.686$.\n",
      "The virial radius at $z_c$ is defined using the critical overdensity $\\Delta_{200m} = 200$ through the relation $M_{vir}=\\frac{4\\pi}{3}R^3_{vir} \\Delta_{200m} \\bar{\\rho}_m(z_c)$,\n",
      "where $\\bar{\\rho}_m(z_c)$ is the average matter density at $z_c$.\n",
      "\n",
      "### a)\n",
      "\n",
      "We have a formula here to calculate the time of collapse for a halo, given a $\\sigma$ for the halo in queston, \n",
      "\n",
      "general form\n",
      "\n",
      "$$ t_c = \\frac{\\pi}{H_i} \\delta_i^{-3/2} \\frac12 $$\n",
      "\n",
      "which reduces (and assuming a  Universe where $a(t)=D(t)$) to:\n",
      "\n",
      "$$ t_c = \\frac1{H_0} \\sigma^{-3/2} \\frac{\\pi}{2 \\Omega_{m0}^{1/2} } $$\n",
      "\n",
      "and then we can calculate the corresponding $z_c(t)$ assuming a matter-dominated Universe:\n",
      "\n",
      "$$ z_c = \\left(\\frac32 H_0 t_c\\right)^{-2/3} - 1 $$"
     ]
    },
    {
     "cell_type": "code",
     "collapsed": false,
     "input": [
      "from __future__ import division\n",
      "\n",
      "import numpy as np\n",
      "import astropy.units as u\n",
      "import astropy.constants as c\n",
      "\n",
      "sigma_1msun = 18.8\n",
      "delta_c = 1.686\n",
      "H_0 = 70 * u.km/u.s/u.Mpc\n",
      "Omega_m0 = 0.3\n",
      "\n",
      "t_c = 1/H_0 * sigma_1msun**(-3/2) * np.pi/(2*Omega_m0**(1/2))\n",
      "print \"Collapse time t_c: {0:.2f}\".format(t_c.to(u.Gyr))\n",
      "\n",
      "# assuming matter domination; formula from Jessica\n",
      "z_c = (3/2 * H_0 * t_c)**(-2/3) - 1\n",
      "print \"z_c = {0:.3f}\".format(z_c)"
     ],
     "language": "python",
     "metadata": {},
     "outputs": [
      {
       "output_type": "stream",
       "stream": "stdout",
       "text": [
        "Collapse time t_c: 0.49 Gyr\n",
        "z_c = 6.108\n"
       ]
      }
     ],
     "prompt_number": 30
    },
    {
     "cell_type": "markdown",
     "metadata": {},
     "source": [
      "Now we can calculate the matter density $\\rho_m$ at that redshift as \n",
      "\n",
      "$$ \\rho_m(z_c) = \\Omega_{m0} (1+z_c)^3 \\frac{3 H_0^2}{8 \\pi G} $$"
     ]
    },
    {
     "cell_type": "code",
     "collapsed": false,
     "input": [
      "# Omega_lambda = 1 - Omega_m0{}\n",
      "\n",
      "# def E(z):\n",
      "#     a = 1/(z+1)\n",
      "    \n",
      "#     E_z = (Omega_lambda + Omega_m0*a**-3)**(1/2)\n",
      "    \n",
      "#     return E_z\n",
      "\n",
      "# rho_crit0 = 3*H_0**2/(8*np.pi*c.G)\n",
      "# a_c = 1/(z_c+1)\n",
      "# rho_crit_z = rho_crit0*a_c**-3/E(z_c)**2\n",
      "\n",
      "# print rho_crit0.to(u.kg/u.m**3)\n",
      "# print rho_crit_z\n",
      "\n",
      "## Rad this is a thing\n",
      "rho_matter_z = Omega_m0*(1+z_c)**3 * 3*H_0**2/(8*np.pi*c.G)\n",
      "print \"Matter density at z_c: {0:.2e}\".format(rho_matter_z.to(u.kg/u.m**3))"
     ],
     "language": "python",
     "metadata": {},
     "outputs": [
      {
       "output_type": "stream",
       "stream": "stdout",
       "text": [
        "Matter density at z_c: 9.92e-25 kg / m3\n"
       ]
      }
     ],
     "prompt_number": 34
    },
    {
     "cell_type": "markdown",
     "metadata": {},
     "source": [
      "The virial radius is calculated like this:\n",
      "$$R_{vir}^3 = \\frac{3 M_{vir}}{4\\pi \\cdot 200 \\rho_m{z_c}}$$"
     ]
    },
    {
     "cell_type": "code",
     "collapsed": false,
     "input": [
      "M_vir = 1*u.Msun\n",
      "R_vir = (M_vir * (3/4/np.pi) / (200*rho_matter_z))**(1/3)\n",
      "\n",
      "print \"The virial radius for this halo is {0:.2f}\".format( R_vir.to(u.pc))\n",
      "\n",
      "virial_volume = R_vir**3 * 4*np.pi/3\n",
      "\n",
      "average_halo_density = (M_vir/virial_volume).to(u.Msun/u.pc**3)\n",
      "\n",
      "print \"and the average halo density is {:.05f}\".format( average_halo_density)\n"
     ],
     "language": "python",
     "metadata": {},
     "outputs": [
      {
       "output_type": "stream",
       "stream": "stdout",
       "text": [
        "The virial radius for this halo is 4.34 pc\n",
        "and the average halo density is 0.00293 solMass / pc3\n"
       ]
      }
     ],
     "prompt_number": 38
    },
    {
     "cell_type": "markdown",
     "metadata": {},
     "source": [
      "### b)\n",
      "\n",
      "Now we use the more accurate expression for $D(t)$ given in the book:\n",
      "\n",
      "$$ D(z) \\propto g(z)/(1+z)$$\n",
      "with\n",
      "$$ g(z) \\approx \\frac52 \\Omega_m(z) \\left\\{ \\Omega_m^{4/7} (z) - \\Omega_\\Lambda (z) + [1+\\Omega_m(z)/2] [1+\\Omega_\\Lambda(z)/70] \\right\\}^{-1} $$\n",
      "\n",
      "\n",
      "Here a more appropriate form of $t_c$ looks like this:\n",
      "\n",
      "$$ t_c = \\frac{\\pi}{H_0 \\Omega_{m0}^{1/2} } \\left[\\sigma(R) \\cdot g(z) \\right]^{-3/2} (0.5)^{1/2} $$\n"
     ]
    },
    {
     "cell_type": "code",
     "collapsed": false,
     "input": [
      "Omega_lambda = 1 - Omega_m0\n",
      "\n",
      "def E(z):\n",
      "    a = 1/(z+1)\n",
      "    \n",
      "    E_z = (Omega_lambda + Omega_m0*a**-3)**(1/2)\n",
      "    \n",
      "    return E_z\n",
      "\n",
      "rho_crit0 = 3*H_0**2/(8*np.pi*c.G)\n",
      "a_c = 1/(z_c+1)\n",
      "rho_crit_z = rho_crit0*a_c**-3/E(z_c)**2\n",
      "\n",
      "\n",
      "def Omega_m(z):\n",
      "    \n",
      "    return \n",
      "\n",
      "def g(z):\n",
      "    \n",
      "    \n",
      "    "
     ],
     "language": "python",
     "metadata": {},
     "outputs": []
    },
    {
     "cell_type": "markdown",
     "metadata": {},
     "source": [
      "## 2.\n",
      "It turns out that the density in problem 1 (if calculated correctly) is close to the estimated dark matter density in the solar neighborhood. \n",
      "If the dark matter particle has a mass of 100 GeV/c$^2$, calculate the number of such particles in your big office, to within a factor of 2.\n",
      "Use common sense when needed.\n",
      "\n",
      "For a first guess, I'll assume the office is a box 10 meters on a side (probably close within a factor of 3-4)."
     ]
    },
    {
     "cell_type": "code",
     "collapsed": false,
     "input": [
      "office_volume = (10*u.m)**3\n",
      "DM_particle_mass = 100*u.GeV/c.c**2\n",
      "\n",
      "N_particles = average_halo_density*office_volume/DM_particle_mass\n",
      "\n",
      "print N_particles.decompose()\n",
      "\n",
      "print \"There should be {0:.1e} DM particles in our office\".format(N_particles.decompose())\n"
     ],
     "language": "python",
     "metadata": {},
     "outputs": [
      {
       "output_type": "stream",
       "stream": "stdout",
       "text": [
        "1112385.72134\n",
        "There should be 1.1e+06 DM particles in our office\n"
       ]
      }
     ],
     "prompt_number": 27
    },
    {
     "cell_type": "markdown",
     "metadata": {},
     "source": [
      "## 3.\n",
      "\n",
      "Rotation of dark matter halos is measured by a dimensionless spin parameter $\\lambda=J/J_{max}(E)$, which is the ratio of the angular momentum $\\vec{J}=M\\vec{r}\\times\\vec{v}$  to its maximum value at a given total energy $E$.\n",
      "Let's reconstruct this spin parameter.\n",
      "Show that a combination\n",
      "$GE^\\beta J^\\gamma$ cannot be dimensionless for any value of $\\beta$ and $\\gamma$. \n",
      "Find values of $\\alpha$, $\\beta$, and $\\gamma$ for which a combination \n",
      "$G M^\\alpha E^\\beta J^\\gamma$ is dimensionless, and derive the expression for $\\lambda$."
     ]
    },
    {
     "cell_type": "markdown",
     "metadata": {},
     "source": [
      "Ok, so this is a unit-analysis problem.\n",
      "\n",
      "$$[G] = m^3~~kg^{-1}~~s^{-2}$$\n",
      "$$[E] = m^2~~kg^{1}~~s^{-2}$$\n",
      "$$[J] = m^2~~kg^{1}~~s^{-1}$$\n",
      "\n",
      "so we can imagine setting up the following system of equations:\n",
      "\n",
      "```\n",
      "     G | E^beta | J^gamma\n",
      "m =  3 + 2 beta + 2 gamma\n",
      "kg= -1 + 1 beta + 1 gamma\n",
      "s = -2 +-2 beta +-1 gamma\n",
      "```\n",
      "and then seeing if any combination of $\\beta$ and $\\gamma$ come out as a solution where $\\rm m=\\rm kg=\\rm s=0$.\n",
      "\n",
      "$$ \\rm{kg} = 0 = -1 + \\beta + \\gamma$$\n",
      "$$ => \\gamma = 1-\\beta $$\n",
      "\n",
      "$$ \\rm{m} = 0 = 3 + 2\\beta + 2\\gamma $$\n",
      "$$ = 3 + 2\\beta + 2(1-\\beta) $$\n",
      "$$ 0 = 3 + 2\\beta + 2 - 2\\beta $$\n",
      "$$ 0 = 5 $$\n",
      "contradiction! no beta or gamma allows for the length and mass units to cancel (not even taking into account the time units).\n",
      "\n"
     ]
    },
    {
     "cell_type": "markdown",
     "metadata": {},
     "source": [
      "Now we revise our system of equations to include a $M^\\alpha$ term:\n",
      "\n",
      "```\n",
      "     G | M^alpha | E^beta | J^gamma\n",
      "m =  3 +    0    + 2 beta + 2 gamma\n",
      "kg= -1 + 1 alpha + 1 beta + 1 gamma\n",
      "s = -2 +    0    +-2 beta +-1 gamma\n",
      "```\n",
      "\n",
      "Now this becomes a system of 3 equations, 3 unknowns.\n",
      "\n",
      "$$ \\rm m = 0 = 3+ 2\\beta + 2\\gamma$$\n",
      "$$ 2\\beta= -(3 + 2\\gamma)$$\n",
      "$$ \\beta = -3/2 - \\gamma $$\n",
      "\n",
      "$$ \\rm{s}=0 = -2 + -2\\beta - \\gamma$$\n",
      "$$ 0 = -2 + 3 + 2\\gamma - \\gamma$$\n",
      "$$ 0 = 1+\\gamma$$\n",
      "$$ \\boxed{\\gamma=-1}$$\n",
      "\n",
      "$$ => \\boxed{\\beta = -1/2 }$$\n",
      "\n",
      "$$ \\rm{kg} = 0 = -1 + \\alpha + \\beta + \\gamma $$\n",
      "$$ 0 = -1 + \\alpha - 1/2 -1 $$\n",
      "$$ 0 = -2 -1/2 -1 $$\n",
      "$$ 0 = -2 - 1/2 + \\alpha $$\n",
      "$$ => \\boxed{\\alpha = 5/2} $$\n",
      "\n",
      "thus, choosing some power $\\eta$ for the whole expression:\n",
      "$$ \\lambda \\propto \\left[ G M^{5/2} E^{-1/2} J^{-1} \\right]^{\\eta}$$\n",
      "and to match our notes, $\\eta=-1$ to produce\n",
      "$$ \\lambda = \\frac{E^{1/2} J}{G M^{5/2}} $$\n"
     ]
    },
    {
     "cell_type": "code",
     "collapsed": false,
     "input": [],
     "language": "python",
     "metadata": {},
     "outputs": []
    }
   ],
   "metadata": {}
  }
 ]
}