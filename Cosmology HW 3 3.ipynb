{
 "metadata": {
  "name": "",
  "signature": "sha256:6e74b9c576d49d754f9d21cd2544329f0107e0cc83ea49b7d3a21e3a9f3ef11c"
 },
 "nbformat": 3,
 "nbformat_minor": 0,
 "worksheets": [
  {
   "cells": [
    {
     "cell_type": "code",
     "collapsed": false,
     "input": [
      "\"\"\" Code for HW 3 #3. \"\"\"\n",
      "\n",
      "from __future__ import division\n",
      "\n",
      "import numpy as np\n",
      "import astropy.units as u\n",
      "import astropy.constants as c\n"
     ],
     "language": "python",
     "metadata": {},
     "outputs": [],
     "prompt_number": 1
    },
    {
     "cell_type": "markdown",
     "metadata": {},
     "source": [
      "## 3.\n",
      "Consider microlensing of stars by other stars in the Galactic bulge. \n",
      "The shift of star positions is not measurable, but the temporary change in their brightness is.\n",
      "Assume the bulge stellar mass distribution to be a singular isothermal sphere (SIS), with a one-dimensional velocity dispersion $\\sigma$. \n",
      "Look up the value of $\\sigma$ in the literature.\n"
     ]
    },
    {
     "cell_type": "markdown",
     "metadata": {},
     "source": [
      "### (a)\n",
      "Derive the Einstein ring radius for a SIS model, as a function of $\\sigma$ and the distances."
     ]
    },
    {
     "cell_type": "markdown",
     "metadata": {},
     "source": [
      "A general form for a deflection angle:\n",
      "\n",
      "$$ \\alpha_d = \\frac{2}{c^2} \\int \\nabla_\\perp \\Phi dl $$\n",
      "\n",
      "The deflection angle for an SIS potential\n",
      "\n",
      "$$\\alpha_d = 4 \\pi \\frac{\\sigma^2}{c^2}$$\n",
      "\n",
      "and the Einstein angle is relevant when there is no angle between the source and the lens, so $\\theta_0 = \\alpha = \\theta_E$:\n",
      "\n",
      "$$ \\theta_E = 4\\pi \\frac{\\sigma^2}{c^2}\\frac{D_{LS}}{D_S}$$"
     ]
    },
    {
     "cell_type": "markdown",
     "metadata": {},
     "source": [
      "### (b)\n",
      "Estimate the optical depth to microlensing for the background stars, which will typically be also located within the bulge: \n",
      "$\\tau \\approx \\Sigma / \\Sigma_c$.\n",
      "How many stars does one need to monitor continuously, in order to detect one significant lensing event?"
     ]
    },
    {
     "cell_type": "markdown",
     "metadata": {},
     "source": [
      "let's say \n",
      "\n",
      "$$ \\tau = \\frac{\\Sigma}{\\Sigma_c} $$\n",
      "\n",
      "well, the projected surface density for SIS is $\\Sigma = \\frac{\\sigma^2}{2Gr}$ and the critical density is given by \n",
      "$$\\Sigma_c = \\frac{c^2}{4\\pi G}\\frac{D_S}{D_L D_{LS}}$$\n",
      "\n",
      "so\n",
      "$$ \\tau = 2\\pi \\frac{\\sigma^2}{c^2} \\frac{D_{LS}}{r} \\frac{D_L}{D_S} $$\n",
      "\n",
      "assume the radius of the bulge is 4 kpc. Source stars are in the \"center\" of the bulge, and lenses will be at the edge of the bulge.\n",
      "\n",
      "Thus, $D_L = 4 \\textrm{kpc}$, $D_S = 8$ kpc, $D_{LS} = 4$ kpc."
     ]
    },
    {
     "cell_type": "code",
     "collapsed": false,
     "input": [
      "sigma = 100 * u.km/u.s\n",
      "D_LS = 4 * u.kpc\n",
      "D_S = 8 * u.kpc\n",
      "D_L = 4 * u.kpc\n",
      "r = 4 * u.kpc\n",
      "\n",
      "tau = 2 * np.pi * sigma**2/ c.c**2 * (D_LS * D_L) / (r * D_S)\n",
      "tau = tau.decompose()\n",
      "\n",
      "print \"The optical depth is {0:.2e}\".format( tau.decompose() )\n",
      "\n",
      "N = 1/tau\n",
      "\n",
      "print \"you have to monitor {0:2.2e} stars\".format(N)"
     ],
     "language": "python",
     "metadata": {},
     "outputs": [
      {
       "output_type": "stream",
       "stream": "stdout",
       "text": [
        "The optical depth is 3.50e-07\n",
        "you have to monitor 2.86e+06 stars\n"
       ]
      }
     ],
     "prompt_number": 12
    },
    {
     "cell_type": "code",
     "collapsed": false,
     "input": [],
     "language": "python",
     "metadata": {},
     "outputs": []
    }
   ],
   "metadata": {}
  }
 ]
}