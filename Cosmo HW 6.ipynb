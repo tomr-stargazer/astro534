{
 "metadata": {
  "name": "",
  "signature": "sha256:ac9f78eb5e15ce68815b63ee8bf503321b9731b8d2e4b8caa14222a3a2df73a3"
 },
 "nbformat": 3,
 "nbformat_minor": 0,
 "worksheets": [
  {
   "cells": [
    {
     "cell_type": "markdown",
     "metadata": {},
     "source": [
      "# Cosmo pset #6\n",
      "Tom Rice\n",
      "\n",
      "## 1.\n",
      "\n",
      "### a)\n",
      "For $\\Omega_{b0}h^2=0.02$ and $\\Omega_{\\gamma 0}h^2=2.5\\times 10^{-5}$, what is the value of $\\mathcal{R}_s \\equiv \\mathcal{R} $\n",
      "\n",
      "$$ 1=2_\\rm{IV} $$\n",
      "\n"
     ]
    },
    {
     "cell_type": "code",
     "collapsed": false,
     "input": [
      "from __future__ import division\n",
      "\n",
      "import numpy as np\n",
      "import astropy\n",
      "import astropy.units as u\n",
      "import astropy.constants as c\n",
      "\n"
     ],
     "language": "python",
     "metadata": {},
     "outputs": [],
     "prompt_number": 12
    },
    {
     "cell_type": "code",
     "collapsed": false,
     "input": [
      "# this allows us to avoid little-h\n",
      "little_h = u.def_unit(['littleh'])\n",
      "\n",
      "H = 100 * u.km/u.Mpc/u.s / little_h\n",
      "\n",
      "rho_crit = 3 * H**2 / (8*np.pi*c.G)\n",
      "Omega_b0 = 0.02 * little_h**2\n",
      "Omega_gamma0 = 2.5e-5 * little_h**2\n",
      "\n",
      "\n",
      "def rho_b(z):\n",
      "    rho = rho_crit * Omega_b0 * (1+z)**3\n",
      "    return rho.decompose()\n",
      "\n",
      "\n",
      "def rho_gamma(z):\n",
      "    rho = rho_crit * Omega_gamma0 * (1+z)**4\n",
      "    return rho.decompose()\n",
      "\n",
      "\n",
      "def R(z):\n",
      "    \n",
      "    R_s =3/4 * rho_b(z) / rho_gamma(z)\n",
      "    \n",
      "    return R_s.decompose()\n",
      "    \n",
      "print \"R_s = {0:.3f}\".format(R(1100))\n",
      "\n",
      "c_s = c.c/(3*(1+R(1100)))**(1/2)\n",
      "\n",
      "print \"c_s(z_rec) = {0:.3f} c\".format(c_s/c.c)"
     ],
     "language": "python",
     "metadata": {},
     "outputs": [
      {
       "output_type": "stream",
       "stream": "stdout",
       "text": [
        "R_s = 0.545\n",
        "c_s(z_rec) = 0.464 c\n"
       ]
      }
     ],
     "prompt_number": 39
    },
    {
     "cell_type": "markdown",
     "metadata": {},
     "source": [
      "$\\Omega_{b0}$ is inferred by counting galaxies in the local universe, finding the baryonic mass of the typical galaxy, and multiplying this through to a representative volume.\n",
      "$\\Omega_{\\gamma 0}$ is inferred by measuring the density of CMB radiation."
     ]
    },
    {
     "cell_type": "markdown",
     "metadata": {},
     "source": [
      "### b)\n",
      "First assume a spatially flat, completely matter-dominated universe with $H_0 = 70$ km/s/Mpc and a constant sound speed with R = R_s. Derive analytical expressions for $\\eta_s, d_A(z_\\rm{rec})$, and $\\theta_c$."
     ]
    },
    {
     "cell_type": "markdown",
     "metadata": {},
     "source": [
      "We start here, as given in the problem set:\n",
      "\n",
      "$$ \\eta_s = a_{\\rm{rec}} \\int_0^{t_{rec}} c_s \\frac{dt}{a} $$\n",
      "\n",
      "In an EdS Universe, the Friedmann equation can be written like this:\n",
      "\n",
      "$$ dt = \\frac{1}{H_0} a^{1/2} da $$\n",
      "\n",
      "so\n",
      "\n",
      "$$ \\eta_s = \\frac{c_s}{H_0} a_{\\rm{rec}} \\int_0^{a_{rec}} a^{-1/2} da $$\n",
      "$$ = \\frac{c_s}{H_0} a_{\\rm{rec}} \\left[ \\frac{a_{rec}^{1/2}}{1/2} \\right] $$\n",
      "\n",
      "giving\n",
      "\n",
      "$$ \\boxed{\\eta_s = 2\\frac{c_s}{H_0} a_{rec}^{3/2}.} $$\n",
      "\n",
      "Angular diameter distance is given by \n",
      "\n",
      "$$ d_A(z_{rec}) = \\frac{r(z_{rec})}{1+z_{rec}} $$\n",
      "\n",
      "and note that co-moving distance $r$ is given as \n",
      "\n",
      "$$ r(z) = c\\int_{t(z_{rec})}^{t(0)} \\frac{dt}{a(t)} $$\n",
      "\n",
      "so\n",
      "\n",
      "$$ d_A(z_{rec}) = a_{rec} \\int_{a_{rec}}^1 \\frac{c}{H_0} a^{-1/2} da $$\n",
      "\n",
      "$$ \\Rightarrow \\boxed{d_A(z_{rec}) = 2 \\frac{c}{H_0} a_{rec} (1-a_{rec}^{1/2})} $$\n",
      "\n",
      "giving \n",
      "\n",
      "$$ \\boxed{\\theta_c \\approx \\eta_s/d_A(z_{rec}) = \\frac{c_s}{c} \\frac{a_{rec}^{1/2}}{1-a_{rec}^{1/2}} }$$\n",
      "\n",
      "now let's calculate the number expected from this analytic formula:"
     ]
    },
    {
     "cell_type": "code",
     "collapsed": false,
     "input": [
      "def theta_c(a_rec, c_s):\n",
      "    \n",
      "    theta = c_s/c.c * (a_rec)**(1/2) / (1-(a_rec)**(1/2)) * u.rad\n",
      "    \n",
      "    return theta\n",
      "\n",
      "z_rec = 1100\n",
      "a_rec = 1/(1+z_rec)\n",
      "\n",
      "theta = theta_c(a_rec, c_s)\n",
      "\n",
      "print \"theta_c = {0:.3f} = {1:.3f}\".format(theta, theta.to(u.deg))"
     ],
     "language": "python",
     "metadata": {},
     "outputs": [
      {
       "output_type": "stream",
       "stream": "stdout",
       "text": [
        "theta_c = 0.014 rad = 0.827 deg\n"
       ]
      }
     ],
     "prompt_number": 45
    },
    {
     "cell_type": "code",
     "collapsed": false,
     "input": [],
     "language": "python",
     "metadata": {},
     "outputs": []
    }
   ],
   "metadata": {}
  }
 ]
}