{
 "metadata": {
  "name": "",
  "signature": "sha256:94054778bcd835e31565f5f85e5acff17ab787ddb3b5b1f69fb302bd381da68f"
 },
 "nbformat": 3,
 "nbformat_minor": 0,
 "worksheets": [
  {
   "cells": [
    {
     "cell_type": "markdown",
     "metadata": {},
     "source": [
      "# Cosmo pset #6\n",
      "Tom Rice\n",
      "\n",
      "## 1.\n",
      "\n",
      "### a)\n",
      "For $\\Omega_{b0}h^2=0.02$ and $\\Omega_{\\gamma 0}h^2=2.5\\times 10^{-5}$, what is the value of $\\mathcal{R}_s \\equiv \\mathcal{R} $?\n",
      "\n"
     ]
    },
    {
     "cell_type": "code",
     "collapsed": false,
     "input": [
      "from __future__ import division\n",
      "\n",
      "import numpy as np\n",
      "import astropy\n",
      "import astropy.units as u\n",
      "import astropy.constants as c\n",
      "\n"
     ],
     "language": "python",
     "metadata": {},
     "outputs": [],
     "prompt_number": 132
    },
    {
     "cell_type": "code",
     "collapsed": false,
     "input": [
      "# this allows us to avoid little-h\n",
      "little_h = u.def_unit(['littleh'])\n",
      "\n",
      "H = 100 * u.km/u.Mpc/u.s / little_h\n",
      "\n",
      "rho_crit = 3 * H**2 / (8*np.pi*c.G)\n",
      "Omega_b0 = 0.02 * little_h**2\n",
      "Omega_gamma0 = 2.5e-5 * little_h**2\n",
      "\n",
      "\n",
      "def rho_b(z):\n",
      "    rho = rho_crit * Omega_b0 * (1+z)**3\n",
      "    return rho.to(u.g/u.cm**3).value\n",
      "\n",
      "\n",
      "def rho_gamma(z):\n",
      "    rho = rho_crit * Omega_gamma0 * (1+z)**4\n",
      "    return rho.to(u.g/u.cm**3).value\n",
      "\n",
      "\n",
      "def R(z):\n",
      "    \n",
      "    R_s =3/4 * rho_b(z) / rho_gamma(z)\n",
      "    \n",
      "    return R_s\n",
      "    \n",
      "print \"R_s = {0:.3f}\".format(R(1100))\n",
      "\n",
      "c_s = c.c/(3*(1+R(1100)))**(1/2)\n",
      "\n",
      "print \"c_s(z_rec) = {0:.3f} c\".format(c_s/c.c)"
     ],
     "language": "python",
     "metadata": {},
     "outputs": [
      {
       "output_type": "stream",
       "stream": "stdout",
       "text": [
        "R_s = 0.545\n",
        "c_s(z_rec) = 0.464 c\n"
       ]
      }
     ],
     "prompt_number": 133
    },
    {
     "cell_type": "markdown",
     "metadata": {},
     "source": [
      "$\\Omega_{b0}$ is inferred by counting galaxies in the local universe, finding the baryonic mass of the typical galaxy, and multiplying this through to a representative volume.\n",
      "$\\Omega_{\\gamma 0}$ is inferred by measuring the density of CMB radiation."
     ]
    },
    {
     "cell_type": "markdown",
     "metadata": {},
     "source": [
      "### b)\n",
      "First assume a spatially flat, completely matter-dominated universe with $H_0 = 70$ km/s/Mpc and a constant sound speed with R = R_s. Derive analytical expressions for $\\eta_s, d_A(z_\\rm{rec})$, and $\\theta_c$."
     ]
    },
    {
     "cell_type": "markdown",
     "metadata": {},
     "source": [
      "We start here, as given in the problem set:\n",
      "\n",
      "$$ \\eta_s = a_{\\rm{rec}} \\int_0^{t_{rec}} c_s \\frac{dt}{a} $$\n",
      "\n",
      "In order to relate $da$ and $dt$, we'll use a form of the Friedmann equation:\n",
      "\n",
      "$$ \\left( \\frac{da}{dt} \\right)^2 = (H_0 a)^2 \\left[ \\Omega_R a^{-4} + \\Omega_m a^{-3} + \\Omega_\\Lambda \\right] $$\n",
      "\n",
      "In an EdS Universe ($\\Omega_m=\\Omega=1$), the Friedmann equation can be written like this:\n",
      "\n",
      "$$ dt = \\frac{1}{H_0} a^{1/2} da $$\n",
      "\n",
      "so\n",
      "\n",
      "$$ \\eta_s = \\frac{c_s}{H_0} a_{\\rm{rec}} \\int_0^{a_{rec}} a^{-1/2} da $$\n",
      "$$ = \\frac{c_s}{H_0} a_{\\rm{rec}} \\left[ \\frac{a_{rec}^{1/2}}{1/2} \\right] $$\n",
      "\n",
      "giving\n",
      "\n",
      "$$ \\boxed{\\eta_s = 2\\frac{c_s}{H_0} a_{rec}^{3/2}.} $$\n",
      "\n",
      "Angular diameter distance is given by \n",
      "\n",
      "$$ d_A(z_{rec}) = \\frac{r(z_{rec})}{1+z_{rec}} $$\n",
      "\n",
      "and note that co-moving distance $r$ is given as \n",
      "\n",
      "$$ r(z) = c\\int_{t(z_{rec})}^{t(0)} \\frac{dt}{a(t)} $$\n",
      "\n",
      "so\n",
      "\n",
      "$$ d_A(z_{rec}) = a_{rec} \\int_{a_{rec}}^1 \\frac{c}{H_0} a^{-1/2} da $$\n",
      "\n",
      "$$ \\Rightarrow \\boxed{d_A(z_{rec}) = 2 \\frac{c}{H_0} a_{rec} (1-a_{rec}^{1/2})} $$\n",
      "\n",
      "giving \n",
      "\n",
      "$$ \\boxed{\\theta_c \\approx \\eta_s/d_A(z_{rec}) = \\frac{c_s}{c} \\frac{a_{rec}^{1/2}}{1-a_{rec}^{1/2}} }$$\n",
      "\n",
      "now let's calculate the number expected from this analytic formula:"
     ]
    },
    {
     "cell_type": "code",
     "collapsed": false,
     "input": [
      "def theta_c(a_rec, c_s):\n",
      "    \n",
      "    theta = c_s/c.c * (a_rec)**(1/2) / (1-(a_rec)**(1/2)) * u.rad\n",
      "    \n",
      "    return theta\n",
      "\n",
      "z_rec = 1100\n",
      "a_rec = 1/(1+z_rec)\n",
      "\n",
      "eta_s = 2 * c_s / (70*u.km/u.s/u.Mpc) * a_rec**(3/2)\n",
      "\n",
      "print \"eta_s = {0:.3f}\".format( eta_s.to(u.Mpc))\n",
      "\n",
      "d_A = 2 * c.c / (70*u.km/u.s/u.Mpc) * a_rec * (1-(a_rec)**(1/2))\n",
      "\n",
      "print \"d_A = {0:.3f}\".format( d_A.to(u.Mpc))\n",
      "\n",
      "theta = theta_c(a_rec, c_s)\n",
      "\n",
      "print \"theta_c = {0:.3f} = {1:.3f}\".format(theta, theta.to(u.deg))"
     ],
     "language": "python",
     "metadata": {},
     "outputs": [
      {
       "output_type": "stream",
       "stream": "stdout",
       "text": [
        "eta_s = 0.109 Mpc\n",
        "d_A = 7.545 Mpc\n",
        "theta_c = 0.014 rad = 0.827 deg\n"
       ]
      }
     ],
     "prompt_number": 134
    },
    {
     "cell_type": "markdown",
     "metadata": {},
     "source": [
      "### c)\n",
      "\n",
      "Now we're doing a more complicated thing where radiation counts, depending on redshift.\n",
      "\n",
      "A more general form of $dt$ relevant here is:\n",
      "\n",
      "$$ dt = \\frac{1}{H_0} \\left(\\Omega_R a^{-2} + \\Omega_m a^{-1} \\right)^{-1/2} da $$\n",
      "\n",
      "so let's plug that into the relevant expressions for $\\eta_s$ and $d_A$, and integrate (pulling out $c/H_0$ as needed).\n",
      "\n",
      "$$ \\eta_s = a_{rec} \\int_0^{a_{rec}} c_s dt/a $$"
     ]
    },
    {
     "cell_type": "code",
     "collapsed": false,
     "input": [
      "def c_s_over_c(a):\n",
      "    \n",
      "    z = 1/a - 1\n",
      "    \n",
      "    return (3*(1+R(z)))**(-1/2)\n",
      "\n",
      "Omega_R = 2.5e-5 / 0.7**2\n",
      "Omega_m = 1 \n",
      "\n",
      "eta_integrand = lambda a: c_s_over_c(a) * (Omega_R * a**-2 + Omega_m * a**-1)**(-1/2) / a\n",
      "\n",
      "from scipy.integrate import quad\n",
      "\n",
      "eta_integral = quad(eta_integrand, 0, a_rec)[0]\n",
      "\n",
      "eta_s = a_rec * eta_integral\n",
      "\n",
      "print \"eta_s = {0:.3e} c / H_0\".format(eta_s)\n",
      "\n",
      "print (eta_s * c.c/(70*u.km/u.s/u.Mpc)).to(u.Mpc)"
     ],
     "language": "python",
     "metadata": {},
     "outputs": [
      {
       "output_type": "stream",
       "stream": "stdout",
       "text": [
        "eta_s = 2.281e-05 c / H_0\n",
        "0.0976857338273 Mpc\n"
       ]
      }
     ],
     "prompt_number": 135
    },
    {
     "cell_type": "markdown",
     "metadata": {},
     "source": [
      "$$\\Rightarrow \\boxed{ \\eta_s = 2.281 \\times 10^{-5} \\frac{c}{H_0} }$$"
     ]
    },
    {
     "cell_type": "markdown",
     "metadata": {},
     "source": [
      "$$ d_A = \\frac{r(z)}{1+z}$$\n",
      "\n",
      "$$ r(z) = c \\int_{a_rec}^1 \\frac{dt}{a} $$"
     ]
    },
    {
     "cell_type": "code",
     "collapsed": false,
     "input": [
      "r_integrand = lambda a: (Omega_R * a**-2 + Omega_m * a**-1)**(-1/2) / a\n",
      "r_integral = quad(r_integrand, a_rec, 1)[0]\n",
      "\n",
      "d_A = a_rec * r_integral\n",
      "\n",
      "print \"d_A = {0:.3e} c / H_0\".format(d_A)\n",
      "\n",
      "print (d_A * c.c/(70*u.km/u.s/u.Mpc)).to(u.Mpc)"
     ],
     "language": "python",
     "metadata": {},
     "outputs": [
      {
       "output_type": "stream",
       "stream": "stdout",
       "text": [
        "d_A = 1.760e-03 c / H_0\n",
        "7.53898618949 Mpc\n"
       ]
      }
     ],
     "prompt_number": 136
    },
    {
     "cell_type": "markdown",
     "metadata": {},
     "source": [
      "$$ \\Rightarrow \\boxed{ d_A = 1.761 \\times 10^{-3} \\frac{c}{H_0} } $$"
     ]
    },
    {
     "cell_type": "code",
     "collapsed": false,
     "input": [
      "theta = eta_s/d_A * u.rad\n",
      "print \"theta_c = {0:.3f} = {1:.3f}\".format(theta, theta.to(u.deg))\n"
     ],
     "language": "python",
     "metadata": {},
     "outputs": [
      {
       "output_type": "stream",
       "stream": "stdout",
       "text": [
        "theta_c = 0.013 rad = 0.742 deg\n"
       ]
      }
     ],
     "prompt_number": 137
    },
    {
     "cell_type": "markdown",
     "metadata": {},
     "source": [
      "$$ \\Rightarrow \\boxed{ \\theta = \\eta_s/d_A = 0.742^\\rm{o} }$$"
     ]
    },
    {
     "cell_type": "markdown",
     "metadata": {},
     "source": [
      "### d)\n",
      "\n",
      "How does $\\theta_c$ depend on $h$? Change to $h=0.5$.\n",
      "\n",
      "In the analytic model, little-$h$ cancels out everywhere, so this should not change. In the numerical model, it affects the $\\Omega_{rad}$.\n",
      "\n",
      "\n",
      "\n",
      "\n"
     ]
    },
    {
     "cell_type": "code",
     "collapsed": false,
     "input": [
      "Omega_R = 2.5e-5 / 0.5**2\n",
      "Omega_m = 1 \n",
      "\n",
      "eta_integrand = lambda a: c_s_over_c(a) * (Omega_R * a**-2 + Omega_m * a**-1)**(-1/2) / a\n",
      "eta_integral = quad(eta_integrand, 0, a_rec)[0]\n",
      "eta_s = a_rec * eta_integral * c.c / (50 * u.km/u.s/u.Mpc)\n",
      "\n",
      "print \"eta_s = {0:.3f}\".format(eta_s.to(u.Mpc))\n",
      "\n",
      "d_A = a_rec * r_integral * c.c / (50 * u.km/u.s/u.Mpc)\n",
      "\n",
      "print \"d_A = {0:.3f}\".format(d_A.to(u.Mpc))\n",
      "\n",
      "theta = eta_s/d_A * u.rad\n",
      "print \"theta_c = {0:.3f} = {1:.3f}\".format(theta, theta.to(u.deg))\n"
     ],
     "language": "python",
     "metadata": {},
     "outputs": [
      {
       "output_type": "stream",
       "stream": "stdout",
       "text": [
        "eta_s = 0.124 Mpc\n",
        "d_A = 10.555 Mpc\n",
        "theta_c = 0.012 rad = 0.675 deg\n"
       ]
      }
     ],
     "prompt_number": 138
    },
    {
     "cell_type": "markdown",
     "metadata": {},
     "source": [
      "So, in the numerical model with $h=0.5$, \n",
      "\n",
      "$$ \\boxed{ \\theta_c = 0.675^\\rm{o} } $$"
     ]
    },
    {
     "cell_type": "markdown",
     "metadata": {},
     "source": [
      "### e)\n",
      "Now $\\Omega_\\Lambda = 0.7$ and we're still in a flat universe with $h=0.7$."
     ]
    },
    {
     "cell_type": "code",
     "collapsed": false,
     "input": [
      "Omega_R = 2.5e-5 / 0.7**2\n",
      "Omega_L = 0.7\n",
      "Omega_m = 1 - Omega_L\n",
      "\n",
      "eta_integrand = lambda a: c_s_over_c(a) * (Omega_R * a**-2 + Omega_m * a**-1 + Omega_L*a**2)**(-1/2) / a\n",
      "eta_integral = quad(eta_integrand, 0, a_rec)[0]\n",
      "eta_s = a_rec * eta_integral * c.c / (70 * u.km/u.s/u.Mpc)\n",
      "\n",
      "print \"eta_s = {0:.3f}\".format(eta_s.to(u.Mpc))\n",
      "\n",
      "r_integrand = lambda a: (Omega_R * a**-2 + Omega_m * a**-1 + Omega_L*a**2)**(-1/2) / a\n",
      "r_integral = quad(r_integrand, a_rec, 1)[0]\n",
      "\n",
      "d_A = a_rec * r_integral * c.c / (70 * u.km/u.s/u.Mpc)\n",
      "\n",
      "print \"d_A = {0:.3f}\".format(d_A.to(u.Mpc))\n",
      "\n",
      "theta = eta_s/d_A * u.rad\n",
      "print \"theta_c = {0:.3f} = {1:.3f}\".format(theta, theta.to(u.deg))\n"
     ],
     "language": "python",
     "metadata": {},
     "outputs": [
      {
       "output_type": "stream",
       "stream": "stdout",
       "text": [
        "eta_s = 0.147 Mpc\n",
        "d_A = 12.392 Mpc\n",
        "theta_c = 0.012 rad = 0.680 deg\n"
       ]
      }
     ],
     "prompt_number": 139
    },
    {
     "cell_type": "markdown",
     "metadata": {},
     "source": [
      "$$ \\Rightarrow \\boxed{ \\theta_c = 0.680^\\rm{o} } $$\n",
      "\n",
      "\n",
      "So $\\eta_s$ increased by about 50%, $d_A$ increased by nearly a factor 2, and thus $\\theta_c$ decreased by a small factor."
     ]
    },
    {
     "cell_type": "markdown",
     "metadata": {},
     "source": [
      "## 2.\n",
      "\n",
      "Ok so gravitational acceleration looks like this:\n",
      "\n",
      "$$ a_g(r) = \\frac{GM}{r^2} $$\n",
      "\n",
      "and cosmological acceleration is:\n",
      "\n",
      "$$ a_\\Lambda = \\Omega_\\Lambda H_0^2 r $$\n",
      "\n",
      "so if we equate them and solve for $r$, we should get a distance:\n",
      "\n",
      "$$ GM/r^2 = \\Omega_\\Lambda H_0^2 r $$\n",
      "$$ r^3 = \\frac{GM}{\\Omega_\\Lambda H_0^2} $$\n",
      "$$ r = \\left(\\frac{GM}{\\Omega_\\Lambda H_0^2}\\right)^{1/3} $$\n",
      "\n",
      "### a)\n",
      "\n"
     ]
    },
    {
     "cell_type": "code",
     "collapsed": false,
     "input": [
      "local_group_mass = 5e12 * u.Msun\n",
      "H_0 = 70*u.km/u.s/u.Mpc\n",
      "Omega_L = 0.7\n",
      "\n",
      "r = (c.G * local_group_mass / (Omega_L * H_0**2))**(1/3)\n",
      "\n",
      "print \"r = {0:.3f}\".format( r.to(u.Mpc))"
     ],
     "language": "python",
     "metadata": {},
     "outputs": [
      {
       "output_type": "stream",
       "stream": "stdout",
       "text": [
        "r = 1.844 Mpc\n"
       ]
      }
     ],
     "prompt_number": 143
    },
    {
     "cell_type": "markdown",
     "metadata": {},
     "source": [
      "By using [Wikipedia: List of nearest galaxies\n",
      "](https://en.wikipedia.org/wiki/List_of_nearest_galaxies), I find the galaxy *just* below this cut is \"HIZSS 003\", at 1.69 Mpc (Karachentsev; Kashibadze; Makarov; Tully 2009).  see [arXiv:0811.4610](http://arxiv.org/abs/0811.4610)\n",
      "\n",
      "Since it's within the radius $r$ given above, it's currently bound; but as $\\Omega_\\Lambda$ increases in the future to approach 1, this galaxy is likely to become unbound within a few billion years.\n",
      "\n"
     ]
    },
    {
     "cell_type": "code",
     "collapsed": false,
     "input": [
      "virgo_cluster_mass = 1e15 * u.Msun\n",
      "H_0 = 70*u.km/u.s/u.Mpc\n",
      "Omega_L = 0.7\n",
      "\n",
      "r = (c.G * virgo_cluster_mass / (Omega_L * H_0**2))**(1/3)\n",
      "\n",
      "print \"r = {0:.3f}\".format( r.to(u.Mpc))"
     ],
     "language": "python",
     "metadata": {},
     "outputs": [
      {
       "output_type": "stream",
       "stream": "stdout",
       "text": [
        "r = 10.784 Mpc\n"
       ]
      }
     ],
     "prompt_number": 147
    },
    {
     "cell_type": "markdown",
     "metadata": {},
     "source": [
      "### b)\n",
      "\n",
      "No, we are not going to fall into the Virgo Cluster; its gravitationally bound region extends only 10.7 Mpc, and we are 17 Mpc away."
     ]
    },
    {
     "cell_type": "code",
     "collapsed": false,
     "input": [],
     "language": "python",
     "metadata": {},
     "outputs": []
    }
   ],
   "metadata": {}
  }
 ]
}