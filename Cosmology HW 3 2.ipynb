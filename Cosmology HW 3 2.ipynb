{
 "metadata": {
  "name": "",
  "signature": "sha256:2abf18e0587942a088267b98b375c5181bd4f88a02fa82aafb79da1e2f133ed6"
 },
 "nbformat": 3,
 "nbformat_minor": 0,
 "worksheets": [
  {
   "cells": [
    {
     "cell_type": "markdown",
     "metadata": {},
     "source": [
      "## 2.\n",
      "Jones & Wyse (1985) found that during recombination the ionized fraction of hydrogen as a function of redshift $z$ is described by the following approximate formula: $x_e(z) \\approx 2.4\\times10^{-3} \\Omega^{1/2}_{m0} \\Omega_{b0}^{-1} h^{-1} (z/1000)^{12.75}$.\n",
      "Ifnoring helium, calculate analytically the optical depth to free electron scattering $\\tau(z)$ in the concordance cosmology ($\\Omega_{m0}$, $\\Omega_\\Lambda =0.7$, $H_0 = 70$).\n",
      "Evaluate the probability density of last scattering of CMB photons, $e^{-\\tau} d\\tau/dz$.\n",
      "Plot this probability density vs. $z$ in the range $800 < z < 1400$. \n",
      "The figure should be \"paper-quality\"."
     ]
    },
    {
     "cell_type": "code",
     "collapsed": false,
     "input": [
      "\"\"\" Code for HW 3 #2. \"\"\"\n",
      "\n",
      "from __future__ import division\n",
      "\n",
      "import numpy as np\n",
      "import astropy.units as u\n",
      "import astropy.constants as c"
     ],
     "language": "python",
     "metadata": {},
     "outputs": [],
     "prompt_number": 1
    },
    {
     "cell_type": "markdown",
     "metadata": {},
     "source": [
      "The optical depth expression is\n",
      "\n",
      "$$ \\tau(z) = \\frac{c}{H_0} \\int_0^z n_0(z) \\sigma(z) \\frac{(1+z)^2}{E(z)} dz $$\n",
      "(from Eq. 3.110)\n",
      "\n",
      "Many of the above terms can be moved outside the integral:\n",
      "* $n_0 = n_H \\cdot x_e(z)$, where $n_H$ is a co-moving baryonic number density that can be placed outside the integral\n",
      "* $\\sigma = \\sigma_T$ the electron (Thomson) scattering cross-section, independent of $z$\n",
      "\n",
      "Further simplifications:\n",
      "* we are interested in this formula at $800 < z < 1400$, so it is safe to approximate $(1+z) \\approx z$\n",
      "\n",
      "now it's\n",
      "\n",
      "$$ \\tau(z) = \\frac{c \\sigma_T n_H}{H_0} \\int_0^z x_e(z)  \\frac{(z)^2}{(\\Omega_\\Lambda + \\Omega_m z^3)^{1/2}} dz $$\n",
      "\n",
      "* $\\Omega_\\Lambda$ should be negligible at these redshifts\n",
      "* substitute the expression for $x_e(z)$ to see\n",
      "\n",
      "$$ \\tau(z) = \\frac{c \\sigma_T n_H}{H_0} 2.4\\times10^{-3}\\frac{\\Omega_m^{1/2}}{\\Omega_b h} \\int_0^z (z/1000)^{12.75}  \\frac{(z)^2}{(\\Omega_m z^3)^{1/2}} dz $$\n",
      "\n",
      "$$ = \\frac{c \\sigma_T n_H}{H_0} \\frac{2.4\\times10^{-3}}{\\Omega_b h 1000^{12.75}} \\int_0^z z^{12.75}  \\frac{z^2}{z^{3/2}} dz $$\n",
      "\n",
      "$$ = \\frac{c \\sigma_T n_H}{H_0} \\frac{2.4\\times10^{-3}}{\\Omega_b h 1000^{12.75}} \\int_0^z z^{13.25} dz $$\n",
      "\n",
      "$$ = \\frac{c \\sigma_T n_H}{H_0} \\frac{2.4\\times10^{-3}}{\\Omega_b h 1000^{12.75}} \\frac{1}{14.25} z^{14.25} $$\n"
     ]
    },
    {
     "cell_type": "markdown",
     "metadata": {},
     "source": [
      "Note that $\\rho_H = \\rho_b = \\Omega_b * \\rho_c$.\n",
      "\n",
      "$n_H$ = $\\Omega_b \\cdot \\rho_c / m_H$, so $\\frac{n_H}{\\Omega_b} = \\rho_c / m_H= \\frac{3 H^2}{8 \\pi G}\\frac{1}{m_H} $\n",
      "\n",
      "This allows us to replace the fraction $n_H / \\Omega_b$ with $\\frac{3 H^2}{8 \\pi G}\\frac{1}{m_H} $.\n",
      "\n",
      "also note that $h = \\frac{H_0}{100 km/s/Mpc}$\n",
      "\n",
      "folding in these terms into the above coefficient, and cancelling the factors of $H$, the tau expression looks like\n",
      "\n",
      "$$ \\tau(z) = \\frac{c \\sigma_T (100 km/s/Mpc)}{m_H} \\frac{3 \\cdot 2.4\\times10^{-3}}{8 \\pi G \\cdot 1000^{12.75}} \\frac{1}{14.25} z^{14.25} $$\n"
     ]
    },
    {
     "cell_type": "code",
     "collapsed": false,
     "input": [
      "sigma_t = 6.65e-29 * u.m**2\n",
      "\n",
      "def tau_z(redshift):\n",
      "    \n",
      "    z = redshift\n",
      "    \n",
      "    first_term = c.c * sigma_t * (100 * u.km/u.s/u.Mpc) / c.m_p\n",
      "    second_term = 3*2.4e-3/(8*np.pi*c.G*1000**12.75*14.25)\n",
      "    \n",
      "    tau = first_term*second_term*z**14.25\n",
      "    \n",
      "    return tau.decompose()\n",
      "\n",
      "def dtau_dz(redshift):\n",
      "    \n",
      "    z = redshift\n",
      "    \n",
      "    first_term = c.c * sigma_t * (100 * u.km/u.s/u.Mpc) / c.m_p\n",
      "    second_term = 3*2.4e-3/(8*np.pi*c.G*1000**12.75)\n",
      "    \n",
      "    dtau = first_term*second_term*z**13.25\n",
      "    \n",
      "    return dtau.decompose()\n",
      "\n",
      "\n",
      "def tau_prob_dist_fn(redshift):\n",
      "    z = redshift\n",
      "    return np.exp(-tau_z(z)) * dtau_dz(z)\n"
     ],
     "language": "python",
     "metadata": {},
     "outputs": [],
     "prompt_number": 28
    },
    {
     "cell_type": "markdown",
     "metadata": {},
     "source": [
      "Now we're going to plot the quantity $e^{-\\tau} d\\tau/dz$, which is named in the homework to be a \"probability density\"."
     ]
    },
    {
     "cell_type": "code",
     "collapsed": false,
     "input": [
      "import matplotlib.pyplot as plt\n",
      "\n",
      "fig = plt.figure(figsize=(8,6))\n",
      "\n",
      "z_array = np.linspace(800, 1400, 200)\n",
      "tau_prob_array = tau_prob_dist_fn(z_array)\n",
      "\n",
      "plt.plot(z_array, tau_prob_array, lw=2)\n",
      "plt.xlabel(\"Redshift $z$\", fontsize=18)\n",
      "plt.ylabel(r\"$e^{-\\tau} d\\tau/dz$\", fontsize=18, rotation='horizontal')"
     ],
     "language": "python",
     "metadata": {},
     "outputs": [
      {
       "metadata": {},
       "output_type": "pyout",
       "prompt_number": 36,
       "text": [
        "<matplotlib.text.Text at 0x10854ded0>"
       ]
      },
      {
       "metadata": {},
       "output_type": "display_data",
       "png": "[encoded data removed]",
       "text": [
        "<matplotlib.figure.Figure at 0x1081290d0>"
       ]
      }
     ],
     "prompt_number": 36
    }
   ],
   "metadata": {}
  }
 ]
}