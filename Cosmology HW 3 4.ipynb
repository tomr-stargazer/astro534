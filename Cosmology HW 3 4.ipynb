{
 "metadata": {
  "name": "",
  "signature": "sha256:d7f5dbcfc770a743e96a900cd3aafeabecbc8ed58a06665ab78377a8bbdff3a6"
 },
 "nbformat": 3,
 "nbformat_minor": 0,
 "worksheets": [
  {
   "cells": [
    {
     "cell_type": "code",
     "collapsed": false,
     "input": [
      "\"\"\" Code for HW 3 #4. \"\"\"\n",
      "\n",
      "from __future__ import division\n",
      "\n",
      "import numpy as np\n",
      "import astropy.units as u\n",
      "import astropy.constants as c\n",
      "\n",
      "from hw1_4 import angular_diameter_distance\n",
      "\n",
      "# concordance cosmology values - from the homework\n",
      "omega_lambda0 = 0.7\n",
      "omega_matter0 = 0.3\n",
      "H_0 = 70"
     ],
     "language": "python",
     "metadata": {},
     "outputs": [],
     "prompt_number": 5
    },
    {
     "cell_type": "markdown",
     "metadata": {},
     "source": [
      "## 4.\n",
      "A quasar PG 1115+080 at $z_s = 1.7$ is an example of a strongly lensed system with 4 images. The lens is an elliptical galaxy at $z_L = 0.3$.\n",
      "\n",
      "<img src=http://apod.nasa.gov/apod/image/9903/pg1115_subaru.jpg>"
     ]
    },
    {
     "cell_type": "markdown",
     "metadata": {},
     "source": [
      "### (a)\n",
      "Assuming the concordance cosmology, calculate the angular diameter distances $D_S$, $D_L$, $D_{LS}$.\n",
      "$D_{LS}$ \n",
      "is a little tricky, and you need to consider what an observer at $z_L$ would see.\n",
      "You need to calculate first $\\Omega_m(z_L)$, $\\Omega_\\Lambda(z_L)$, and $H(z_L)$.\n"
     ]
    },
    {
     "cell_type": "markdown",
     "metadata": {},
     "source": [
      "To derive the Hubble constant and matter / dark energy densities at different redshifts, we can use some formulas from the book.\n",
      "\n",
      "$$"
     ]
    },
    {
     "cell_type": "code",
     "collapsed": false,
     "input": [
      "# Here we define some helper functions to compute cosmological parameters at arbitary redshift \n",
      "# (assuming that only matter and dark energy are important contributors).\n",
      "\n",
      "def E_z(redshift, omega_m0, omega_de0):\n",
      "    \"\"\" Internal function E(z) \"\"\"\n",
      "    z = redshift\n",
      "    return np.sqrt( omega_m0*(1+z)**3 + omega_de0 )\n",
      "\n",
      "def omega_matter_at_z(redshift, omega_m0=omega_matter0, omega_de0=omega_lambda0):\n",
      "    \"\"\" Calculate Omega_m(z) \"\"\"\n",
      "    \n",
      "    z = redshift\n",
      "    \n",
      "    omega_mz = omega_m0 * (1+z)**3 / E_z(z, omega_m0, omega_de0)**2\n",
      "    \n",
      "    return omega_mz\n",
      "\n",
      "def omega_lambda_at_z(redshift, omega_m0=omega_matter0, omega_de0=omega_lambda0):\n",
      "    \"\"\" Calculate Omega_Lambda(z) \"\"\"\n",
      "    \n",
      "    z = redshift\n",
      "    \n",
      "    omega_dez = omega_de0 / E_z(z, omega_m0, omega_de0)**2\n",
      "    \n",
      "    return omega_dez\n",
      "\n",
      "def hubble_at_z(redshift, H_0=H_0, omega_m0=omega_matter0, omega_de0=omega_lambda0):\n",
      "    \"\"\" Calculate H(z) \"\"\"\n",
      "    z = redshift    \n",
      "    return H_0 * E_z(z, omega_m0, omega_de0)"
     ],
     "language": "python",
     "metadata": {},
     "outputs": [],
     "prompt_number": 6
    },
    {
     "cell_type": "code",
     "collapsed": false,
     "input": [
      "z_L = 0.3\n",
      "z_S = 1.7\n",
      "\n",
      "D_L = angular_diameter_distance(z_L, H_0, omega_matter0, omega_lambda0)\n",
      "D_S = angular_diameter_distance(z_S, H_0, omega_matter0, omega_lambda0)\n",
      "    \n",
      "H_zL = hubble_at_z(z_L)\n",
      "omega_m_zL = omega_matter_at_z(z_L)\n",
      "omega_de_zL = omega_lambda_at_z(z_L)\n",
      "\n",
      "print \"Cosmological parameters at z=0.3:\"\n",
      "print \"Omega_m(z=0.3)      = {0:.3f}\".format(omega_m_zL)\n",
      "print \"Omega_lambda(z=0.3) = {0:.3f}\".format(omega_de_zL)\n",
      "print \"H(z=0.3)            = {0:.2f} km/s/Mpc\".format(H_zL)\n",
      "print \"\"\n",
      "\n",
      "D_LS = angular_diameter_distance(z_S, H_zL, omega_m_zL, omega_de_zL, redshift_of_observer=z_L)\n",
      "\n",
      "print \"Distances: \"\n",
      "print \"D_L = {0:.2f}\".format(D_L)\n",
      "print \"D_S = {0:.2f}\".format(D_S)\n",
      "print \"D_LS = {0:.2f}\".format(D_LS)"
     ],
     "language": "python",
     "metadata": {},
     "outputs": [
      {
       "output_type": "stream",
       "stream": "stdout",
       "text": [
        "Cosmological parameters at z=0.3:\n",
        "Omega_m(z=0.3)      = 0.485\n",
        "Omega_lambda(z=0.3) = 0.515\n",
        "H(z=0.3)            = 81.61 km/s/Mpc\n",
        "\n",
        "Distances: \n",
        "D_L = 918.77 Mpc\n",
        "D_S = 1746.13 Mpc\n",
        "D_LS = 736.92 Mpc\n"
       ]
      }
     ],
     "prompt_number": 7
    },
    {
     "cell_type": "markdown",
     "metadata": {},
     "source": [
      "### (b)\n",
      "Recalculate $D_S$, $D_L$, $D_{LS}$ if the source were at $z=20$. \n",
      "Is there anything unusual? How do you explain it?\n"
     ]
    },
    {
     "cell_type": "code",
     "collapsed": false,
     "input": [
      "z_L = 0.3\n",
      "z_S_z20 = 20\n",
      "\n",
      "D_L = angular_diameter_distance(z_L, H_0, omega_matter0, omega_lambda0)\n",
      "D_S_z20 = angular_diameter_distance(z_S_z20, H_0, omega_matter0, omega_lambda0)\n",
      "    \n",
      "H_zL = hubble_at_z(z_L)\n",
      "omega_m_zL = omega_matter_at_z(z_L)\n",
      "omega_de_zL = omega_lambda_at_z(z_L)\n",
      "\n",
      "D_LS_z20 = angular_diameter_distance(z_S_z20, H_zL, omega_m_zL, omega_de_zL, redshift_of_observer=z_L)\n",
      "\n",
      "print \"Distances: \"\n",
      "print \"D_L = {0:.2f}\".format(D_L)\n",
      "print \"D_S = {0:.2f}\".format(D_S_z20)\n",
      "print \"D_LS = {0:.2f}\".format(D_LS_z20)"
     ],
     "language": "python",
     "metadata": {},
     "outputs": [
      {
       "output_type": "stream",
       "stream": "stdout",
       "text": [
        "Distances: \n",
        "D_L = 918.77 Mpc\n",
        "D_S = 511.54 Mpc\n",
        "D_LS = 244.72 Mpc\n"
       ]
      }
     ],
     "prompt_number": 8
    },
    {
     "cell_type": "markdown",
     "metadata": {},
     "source": [
      "This is really weird! Here, the source \"appears\" to be closer than the lens! I think this is the \"illusion\" produced by the fact that \"angular diameter distance\" is double-valued when converting into redshift. (we are \"fooled\")"
     ]
    },
    {
     "cell_type": "markdown",
     "metadata": {},
     "source": [
      "### (c) \n",
      "Assume that the lensing galaxy is described by a singular isothermal sphere profile with $\\sigma = 250 \\textrm{ km s}^{-1}$.\n",
      "What is the Einstein radius in kpc and arcsec?"
     ]
    },
    {
     "cell_type": "markdown",
     "metadata": {},
     "source": [
      "The size of the Einstein ring in this situation is given by\n",
      "$$ \\theta_E = 4\\pi \\frac{\\sigma_v^2}{c^2} \\frac{D_{LS}}{D_S} $$"
     ]
    },
    {
     "cell_type": "code",
     "collapsed": false,
     "input": [
      "def SIS_einstein_radius(velocity_dispersion, D_LS, D_S):\n",
      "    \n",
      "    sigma = u.Quantity(velocity_dispersion, u.km/u.s)\n",
      "    \n",
      "    theta_E = 4*np.pi * sigma**2 / c.c**2 * D_LS/D_S\n",
      "    \n",
      "    return theta_E.decompose() * u.rad\n",
      "\n",
      "sigma_v = 250 * u.km/u.s\n",
      "theta_E = SIS_einstein_radius(sigma_v, D_LS, D_S)\n",
      "distance_E = theta_E * D_L / u.rad\n",
      "\n",
      "print \"Einstein radius theta_E = {0:.3f}\".format(theta_E.to(u.arcsec))\n",
      "print \"In physical units, d_E = {0:.2f}\".format(distance_E.to(u.kpc))"
     ],
     "language": "python",
     "metadata": {},
     "outputs": [
      {
       "output_type": "stream",
       "stream": "stdout",
       "text": [
        "Einstein radius theta_E = 0.761 arcsec\n",
        "In physical units, d_E = 3.39 kpc\n"
       ]
      }
     ],
     "prompt_number": 23
    },
    {
     "cell_type": "markdown",
     "metadata": {},
     "source": [
      "### (d)\n",
      "Equation 6.206 in the textbook gives the expression for the time delay between multiple images. The first term in the square brackets is the geometrical delay, while the second term is the gravitational delay. Calculate the geometrical and gravitational time delays, in days, of light rays at the Einstein ring ($\\theta = \\theta_E$, $\\theta_S = 0$) relative to undeflected rays."
     ]
    },
    {
     "cell_type": "markdown",
     "metadata": {},
     "source": [
      "Eq. 6.206 looks like\n",
      "$$ \\Delta t (\\vec \\theta_0) = \\frac{(1+z_L)}{c} \\frac{D_L D_S}{D_{LS}} \\left[\\frac12 \\left|\\vec \\theta_0 - \\vec \\theta_S\\right|^2 - \\psi (\\vec \\theta_0) \\right]$$\n",
      "\n",
      "and can be broken down into two terms:\n",
      "\n",
      "$$ \\Delta t_{geo} = \\frac{(1+z_L)}{c} \\frac{D_L D_S}{D_{LS}} \\left[\\frac12 \\left|\\vec \\theta_0 - \\vec \\theta_S\\right|^2\\right] $$\n",
      "\n",
      "and \n",
      "\n",
      "$$ \\Delta t_{grav} = \\frac{(1+z_L)}{c} \\frac{D_L D_S}{D_{LS}} \\left[ - \\psi (\\vec \\theta_0) \\right] $$\n",
      "\n",
      "\n",
      "where Eq. 6.225 gives the effective potential $\\psi(\\theta_0)$ for an SIS as\n",
      "\n",
      "$$ \\psi (\\theta_0) = \\frac{D_{LS}}{D_S} 4 \\pi \\frac{\\sigma_v^2}{c^2} \\left(\\theta_c^2 + \\theta_0^2 \\right)^{1/2} $$\n",
      "\n",
      "where $\\theta_c = \\xi_c / D_L $. \n",
      "\n",
      "Note that $\\xi_c$ (the core radius of the lensing galaxy) is a missing parameter of the problem. \n",
      "As a rough approximation, let's set it equal to the physical size (in kpc) of the Einstein ring, making $\\theta_c = \\theta_E$ (since we lack a better value to use)."
     ]
    },
    {
     "cell_type": "code",
     "collapsed": false,
     "input": [
      "def psi(D_LS, D_S, sigma_v, theta_0, theta_c):\n",
      "    \"\"\" Effective lensing potential for an SIS \"\"\"\n",
      "    \n",
      "    first_term = D_LS/D_S * 4*np.pi * sigma_v**2/c.c**2 \n",
      "    second_term = (theta_c**2 + theta_0**2)**(1/2)\n",
      "    \n",
      "    return first_term * second_term\n",
      "\n",
      "def delta_t_geometry(z_L, D_L, D_S, D_LS, theta_S, theta_0):\n",
      "    \"\"\" Computes the geometric time delay \"\"\"\n",
      "    \n",
      "    delta_t = (1+z_L)/c.c * (D_L * D_S)/D_LS * (1/2 * np.abs(theta_0 - theta_S)**2)\n",
      "\n",
      "    return delta_t.to(u.s)\n",
      "\n",
      "def delta_t_grav(z_L, D_L, D_S, D_LS, theta_c, theta_0):\n",
      "    \"\"\" Computes the gravitational time delay \"\"\"\n",
      "    \n",
      "    delta_t = (1+z_L)/c.c * (D_L * D_S)/D_LS * -psi(D_LS, D_S, sigma_v, theta_0, theta_c)\n",
      "    \n",
      "    return delta_t.to(u.s)\n",
      "    "
     ],
     "language": "python",
     "metadata": {},
     "outputs": [],
     "prompt_number": 21
    },
    {
     "cell_type": "code",
     "collapsed": false,
     "input": [
      "dt_geo = delta_t_geometry(z_L, D_L, D_S, D_LS, 0, theta_E/u.rad).to(u.day)\n",
      "dt_grav = delta_t_grav(z_L, D_L, D_S, D_LS, theta_E/u.rad, theta_E/u.rad).to(u.day)\n",
      "\n",
      "print \"The geometric time delay is {0:.2f}\".format(dt_geo)\n",
      "print \"The gravitational time delay is {0:.2f}\".format(dt_grav)"
     ],
     "language": "python",
     "metadata": {},
     "outputs": [
      {
       "output_type": "stream",
       "stream": "stdout",
       "text": [
        "The geometric time delay is 22.93 d\n",
        "The gravitational time delay is -64.85 d\n"
       ]
      }
     ],
     "prompt_number": 22
    },
    {
     "cell_type": "code",
     "collapsed": false,
     "input": [],
     "language": "python",
     "metadata": {},
     "outputs": [],
     "prompt_number": 11
    },
    {
     "cell_type": "code",
     "collapsed": false,
     "input": [],
     "language": "python",
     "metadata": {},
     "outputs": [],
     "prompt_number": 11
    },
    {
     "cell_type": "code",
     "collapsed": false,
     "input": [],
     "language": "python",
     "metadata": {},
     "outputs": [],
     "prompt_number": 11
    },
    {
     "cell_type": "code",
     "collapsed": false,
     "input": [],
     "language": "python",
     "metadata": {},
     "outputs": []
    }
   ],
   "metadata": {}
  }
 ]
}