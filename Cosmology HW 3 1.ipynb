{
 "metadata": {
  "name": "",
  "signature": "sha256:9576dfd4213a0bf210a6dc74ccb6b896af8b6e61c5643d595801eb654aff457a"
 },
 "nbformat": 3,
 "nbformat_minor": 0,
 "worksheets": [
  {
   "cells": [
    {
     "cell_type": "markdown",
     "metadata": {},
     "source": [
      "# Tom Rice\n",
      "## Astro 534 :  HW #3 : 18 Feb 2015"
     ]
    },
    {
     "cell_type": "markdown",
     "metadata": {},
     "source": [
      "## 1.\n",
      "Consider the early days of CMB, when in 1964  a Bell Labs technical report implied the CMB temperature to be $T_0 \\approx $ 1 K (instead of 2.73 K).\n",
      "Using the freeze-out approximation, calculate the expected current helium mass fraction and compare it with the observational limits.\n",
      "(Recall that the freeze-out temperature scales with the ratio of baryons-to-photons $\\eta$ approximately as $T_f \\propto 1/\\textrm{ln}(\\eta^{-1})$. For bonus points, show how to derive this dependence.)"
     ]
    },
    {
     "cell_type": "code",
     "collapsed": false,
     "input": [
      "\"\"\" Code for HW 3 #1. \"\"\"\n",
      "\n",
      "from __future__ import division\n",
      "\n",
      "import numpy as np\n",
      "import astropy.units as u\n",
      "import astropy.constants as c\n"
     ],
     "language": "python",
     "metadata": {},
     "outputs": [],
     "prompt_number": 1
    },
    {
     "cell_type": "markdown",
     "metadata": {},
     "source": [
      "I'll address this problem in the following way:\n",
      "\n",
      "* We know the \"real\" values of the baryon-to-photon ratio $\\eta$, and the CMB temperature $T_0$.\n",
      "* By 'pretending' that the CMB temperature is different from the 'known' one, we can derive a 'pretend' $\\eta_{1K}$ by scaling from the known $\\eta_{2.7K}$.\n",
      "* The freeze-out temperature is sensitive to $\\eta$, so we derive a new $T_{f,1K}$.\n",
      "* The ratio of neutrons to protons at freeze-out depends on $T_f$, so we find a new $\\frac{n_n}{n_p}_{1K}$.\n",
      "* The mass fraction of helium $X_{He}$ (or $Y$) is set by $\\frac{n_n}{n_p}$, so we find a new $Y_{1K}$."
     ]
    },
    {
     "cell_type": "markdown",
     "metadata": {},
     "source": [
      "Let's look at how $\\eta$ reacts to a new CMB temperature.\n",
      "\n",
      "$$\\eta \\equiv \\frac{n_{baryon}}{n_{photon}} $$\n",
      "\n",
      "Today, $\\eta_{2.7K} \\approx 10^{-9}$.\n",
      "\n",
      "In the new CMB temperature, we wouldn't expect the baryon number density to change, but the photon number density changes -- so the \"new\" $\\eta$ can be written as\n",
      "\n",
      "$$ \\eta_{1K} = \\frac{n_{baryon}}{n_{photon,1K}} = \\eta_{2.7K} \\frac{n_{photon,2.7}}{n_{photon,1K}}  $$\n",
      "\n",
      "The photon number density scales with the CMB temperature cubed, so we get:\n",
      "\n",
      "$$ \\eta_{1K} = \\frac{ T^3_{photon, 2.7K}}{ T^3_{photon, 1K}} \\eta_{2.7K} = \\frac{(2.7K)^3}{(1K)^3} \\eta_{2.7K}$$"
     ]
    },
    {
     "cell_type": "code",
     "collapsed": false,
     "input": [
      "eta27K = 1e-9\n",
      "eta1K = (2.7)**3/(1)**3 * eta27K\n",
      "\n",
      "print \"eta_1K = {0:.2e}\".format(eta1K)"
     ],
     "language": "python",
     "metadata": {},
     "outputs": [
      {
       "output_type": "stream",
       "stream": "stdout",
       "text": [
        "eta_1K = 1.97e-08\n"
       ]
      }
     ],
     "prompt_number": 4
    },
    {
     "cell_type": "markdown",
     "metadata": {},
     "source": [
      "The freeze-out temperature can be written as \n",
      "$$ T_f \\propto 1/\\ln{\\eta^{-1}} $$\n",
      "\n",
      "and a ratio of \"real\" to \"pretend\" freeze-out temperatures looks like\n",
      "\n",
      "$$ \\frac{T_{f,1K}}{T_{f,2.7K}} = \\frac{ \\ln(\\eta_{2.7K}^{-1})}{\\ln(\\eta_{1K}^{-1})} $$\n",
      "\n",
      "we know that $T_{f,2.7K} = 0.7 \\textrm{MeV}/k_B$"
     ]
    },
    {
     "cell_type": "code",
     "collapsed": false,
     "input": [
      "T_f27 = 0.7 * u.MeV \n",
      "\n",
      "T_f1 = T_f27 * np.log(1/eta27K) / np.log(1/eta1K)\n",
      "\n",
      "print \"The new freeze-out temperature is {0:.2f}\".format(T_f1)\n"
     ],
     "language": "python",
     "metadata": {},
     "outputs": [
      {
       "output_type": "stream",
       "stream": "stdout",
       "text": [
        "The new freeze-out temperature is 0.82 MeV\n"
       ]
      }
     ],
     "prompt_number": 9
    },
    {
     "cell_type": "markdown",
     "metadata": {},
     "source": [
      "The ratio of neutrons to protons looks like this:\n",
      "\n",
      "$$ \\frac{n_n}{n_p} = e^{-Q / T_f}$$\n",
      "where $Q$ is the rest-energy difference between neutrons and protons; $Q\\approx 1.3\\textrm{MeV}$."
     ]
    },
    {
     "cell_type": "code",
     "collapsed": false,
     "input": [
      "# new proton-neutron ratio:\n",
      "\n",
      "Q = (c.m_n-c.m_p)*c.c**2\n",
      "print \"Difference in proton/neutron rest energy: {0:.3f}\".format(Q.to(u.MeV))\n",
      "\n",
      "nn_np = np.exp(-Q / T_f1)\n",
      "np_nn = 1/nn_np\n",
      "\n",
      "print \"Neutron-to-proton ratio: {0:.3f}\".format(nn_np)\n",
      "print \"Proton-to-neutron ratio: {0:.2f}\".format(np_nn)\n"
     ],
     "language": "python",
     "metadata": {},
     "outputs": [
      {
       "output_type": "stream",
       "stream": "stdout",
       "text": [
        "Difference in proton/neutron rest energy: 1.293 MeV\n",
        "Neutron-to-proton ratio: 0.206\n",
        "Proton-to-neutron ratio: 4.86\n"
       ]
      }
     ],
     "prompt_number": 40
    },
    {
     "cell_type": "markdown",
     "metadata": {},
     "source": [
      "In this time of the early universe, we assume that every neutron present at this freeze-out was almost immediately fused into helium nuclei. This would make the number fraction of helium nuclei look like:\n",
      "\n",
      "$$ \\frac{n_{He}}{n_{all}} = \\frac{ \\frac12 n_n/n_p }{1+ n_n/n_p} $$\n",
      "\n",
      "(each helium nucleus takes 2 neutrons)\n",
      "\n",
      "Heliums weigh 4 times other constituents (hydrogens) so the mass fraction looks like\n",
      "\n",
      "$$ Y \\equiv X_{He} = \\frac{2 n_n / n_p}{1+n_n/n_p} $$\n",
      "\n"
     ]
    },
    {
     "cell_type": "code",
     "collapsed": false,
     "input": [
      "Y = 2*(nn_np) / (1 + nn_np)\n",
      "print \"The predicted helium mass fraction is {0:.3f}\".format(Y)"
     ],
     "language": "python",
     "metadata": {},
     "outputs": [
      {
       "output_type": "stream",
       "stream": "stdout",
       "text": [
        "The predicted helium mass fraction is 0.341\n"
       ]
      }
     ],
     "prompt_number": 31
    },
    {
     "cell_type": "markdown",
     "metadata": {},
     "source": [
      "How does this compare to observational limits?\n",
      "Izotov and Thuan (2010) show plots indicating that the primordial helium mass fraction *cannot* be less than about 0.25, so this would be a strong indication that the CMB should not be 1 K (or that the physics involved in this $Y$ prediction are incomplete/incorrect)."
     ]
    }
   ],
   "metadata": {}
  }
 ]
}